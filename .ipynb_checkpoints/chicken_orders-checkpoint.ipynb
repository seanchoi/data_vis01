{
 "cells": [
  {
   "cell_type": "code",
   "execution_count": 3,
   "metadata": {},
   "outputs": [],
   "source": [
    "import pandas as pd"
   ]
  },
  {
   "cell_type": "code",
   "execution_count": 4,
   "metadata": {},
   "outputs": [
    {
     "data": {
      "text/html": [
       "<div>\n",
       "<style scoped>\n",
       "    .dataframe tbody tr th:only-of-type {\n",
       "        vertical-align: middle;\n",
       "    }\n",
       "\n",
       "    .dataframe tbody tr th {\n",
       "        vertical-align: top;\n",
       "    }\n",
       "\n",
       "    .dataframe thead th {\n",
       "        text-align: right;\n",
       "    }\n",
       "</style>\n",
       "<table border=\"1\" class=\"dataframe\">\n",
       "  <thead>\n",
       "    <tr style=\"text-align: right;\">\n",
       "      <th></th>\n",
       "      <th>기준일</th>\n",
       "      <th>요일</th>\n",
       "      <th>성별</th>\n",
       "      <th>연령대</th>\n",
       "      <th>시도</th>\n",
       "      <th>시군구</th>\n",
       "      <th>읍면동</th>\n",
       "      <th>업종</th>\n",
       "      <th>통화건수</th>\n",
       "    </tr>\n",
       "  </thead>\n",
       "  <tbody>\n",
       "    <tr>\n",
       "      <th>0</th>\n",
       "      <td>20190701</td>\n",
       "      <td>월</td>\n",
       "      <td>남</td>\n",
       "      <td>30대</td>\n",
       "      <td>서울특별시</td>\n",
       "      <td>강남구</td>\n",
       "      <td>논현동</td>\n",
       "      <td>치킨</td>\n",
       "      <td>8</td>\n",
       "    </tr>\n",
       "    <tr>\n",
       "      <th>1</th>\n",
       "      <td>20190701</td>\n",
       "      <td>월</td>\n",
       "      <td>여</td>\n",
       "      <td>30대</td>\n",
       "      <td>서울특별시</td>\n",
       "      <td>강남구</td>\n",
       "      <td>개포동</td>\n",
       "      <td>치킨</td>\n",
       "      <td>10</td>\n",
       "    </tr>\n",
       "    <tr>\n",
       "      <th>2</th>\n",
       "      <td>20190701</td>\n",
       "      <td>월</td>\n",
       "      <td>여</td>\n",
       "      <td>30대</td>\n",
       "      <td>서울특별시</td>\n",
       "      <td>강남구</td>\n",
       "      <td>논현동</td>\n",
       "      <td>치킨</td>\n",
       "      <td>16</td>\n",
       "    </tr>\n",
       "    <tr>\n",
       "      <th>3</th>\n",
       "      <td>20190701</td>\n",
       "      <td>월</td>\n",
       "      <td>여</td>\n",
       "      <td>30대</td>\n",
       "      <td>서울특별시</td>\n",
       "      <td>강남구</td>\n",
       "      <td>수서동</td>\n",
       "      <td>치킨</td>\n",
       "      <td>5</td>\n",
       "    </tr>\n",
       "    <tr>\n",
       "      <th>4</th>\n",
       "      <td>20190701</td>\n",
       "      <td>월</td>\n",
       "      <td>여</td>\n",
       "      <td>30대</td>\n",
       "      <td>서울특별시</td>\n",
       "      <td>강남구</td>\n",
       "      <td>대치동</td>\n",
       "      <td>치킨</td>\n",
       "      <td>5</td>\n",
       "    </tr>\n",
       "    <tr>\n",
       "      <th>...</th>\n",
       "      <td>...</td>\n",
       "      <td>...</td>\n",
       "      <td>...</td>\n",
       "      <td>...</td>\n",
       "      <td>...</td>\n",
       "      <td>...</td>\n",
       "      <td>...</td>\n",
       "      <td>...</td>\n",
       "      <td>...</td>\n",
       "    </tr>\n",
       "    <tr>\n",
       "      <th>26374</th>\n",
       "      <td>20190731</td>\n",
       "      <td>수</td>\n",
       "      <td>여</td>\n",
       "      <td>60대이상</td>\n",
       "      <td>서울특별시</td>\n",
       "      <td>중랑구</td>\n",
       "      <td>면목동</td>\n",
       "      <td>치킨</td>\n",
       "      <td>20</td>\n",
       "    </tr>\n",
       "    <tr>\n",
       "      <th>26375</th>\n",
       "      <td>20190731</td>\n",
       "      <td>수</td>\n",
       "      <td>여</td>\n",
       "      <td>30대</td>\n",
       "      <td>서울특별시</td>\n",
       "      <td>중랑구</td>\n",
       "      <td>중화동</td>\n",
       "      <td>치킨</td>\n",
       "      <td>5</td>\n",
       "    </tr>\n",
       "    <tr>\n",
       "      <th>26376</th>\n",
       "      <td>20190731</td>\n",
       "      <td>수</td>\n",
       "      <td>여</td>\n",
       "      <td>10대</td>\n",
       "      <td>서울특별시</td>\n",
       "      <td>중랑구</td>\n",
       "      <td>면목동</td>\n",
       "      <td>치킨</td>\n",
       "      <td>5</td>\n",
       "    </tr>\n",
       "    <tr>\n",
       "      <th>26377</th>\n",
       "      <td>20190731</td>\n",
       "      <td>수</td>\n",
       "      <td>여</td>\n",
       "      <td>60대이상</td>\n",
       "      <td>서울특별시</td>\n",
       "      <td>중랑구</td>\n",
       "      <td>망우동</td>\n",
       "      <td>치킨</td>\n",
       "      <td>5</td>\n",
       "    </tr>\n",
       "    <tr>\n",
       "      <th>26378</th>\n",
       "      <td>20190731</td>\n",
       "      <td>수</td>\n",
       "      <td>남</td>\n",
       "      <td>40대</td>\n",
       "      <td>서울특별시</td>\n",
       "      <td>중랑구</td>\n",
       "      <td>면목동</td>\n",
       "      <td>치킨</td>\n",
       "      <td>22</td>\n",
       "    </tr>\n",
       "  </tbody>\n",
       "</table>\n",
       "<p>26379 rows × 9 columns</p>\n",
       "</div>"
      ],
      "text/plain": [
       "            기준일 요일 성별    연령대     시도  시군구  읍면동  업종  통화건수\n",
       "0      20190701  월  남    30대  서울특별시  강남구  논현동  치킨     8\n",
       "1      20190701  월  여    30대  서울특별시  강남구  개포동  치킨    10\n",
       "2      20190701  월  여    30대  서울특별시  강남구  논현동  치킨    16\n",
       "3      20190701  월  여    30대  서울특별시  강남구  수서동  치킨     5\n",
       "4      20190701  월  여    30대  서울특별시  강남구  대치동  치킨     5\n",
       "...         ... .. ..    ...    ...  ...  ...  ..   ...\n",
       "26374  20190731  수  여  60대이상  서울특별시  중랑구  면목동  치킨    20\n",
       "26375  20190731  수  여    30대  서울특별시  중랑구  중화동  치킨     5\n",
       "26376  20190731  수  여    10대  서울특별시  중랑구  면목동  치킨     5\n",
       "26377  20190731  수  여  60대이상  서울특별시  중랑구  망우동  치킨     5\n",
       "26378  20190731  수  남    40대  서울특별시  중랑구  면목동  치킨    22\n",
       "\n",
       "[26379 rows x 9 columns]"
      ]
     },
     "execution_count": 4,
     "metadata": {},
     "output_type": "execute_result"
    }
   ],
   "source": [
    "chicken07 = pd.read_csv('./data/chicken_07.csv')\n",
    "chicken07"
   ]
  },
  {
   "cell_type": "code",
   "execution_count": 5,
   "metadata": {},
   "outputs": [
    {
     "data": {
      "text/html": [
       "<div>\n",
       "<style scoped>\n",
       "    .dataframe tbody tr th:only-of-type {\n",
       "        vertical-align: middle;\n",
       "    }\n",
       "\n",
       "    .dataframe tbody tr th {\n",
       "        vertical-align: top;\n",
       "    }\n",
       "\n",
       "    .dataframe thead th {\n",
       "        text-align: right;\n",
       "    }\n",
       "</style>\n",
       "<table border=\"1\" class=\"dataframe\">\n",
       "  <thead>\n",
       "    <tr style=\"text-align: right;\">\n",
       "      <th></th>\n",
       "      <th>기준일</th>\n",
       "      <th>통화건수</th>\n",
       "    </tr>\n",
       "  </thead>\n",
       "  <tbody>\n",
       "    <tr>\n",
       "      <th>count</th>\n",
       "      <td>2.637900e+04</td>\n",
       "      <td>26379.000000</td>\n",
       "    </tr>\n",
       "    <tr>\n",
       "      <th>mean</th>\n",
       "      <td>2.019072e+07</td>\n",
       "      <td>12.346109</td>\n",
       "    </tr>\n",
       "    <tr>\n",
       "      <th>std</th>\n",
       "      <td>8.869258e+00</td>\n",
       "      <td>14.961707</td>\n",
       "    </tr>\n",
       "    <tr>\n",
       "      <th>min</th>\n",
       "      <td>2.019070e+07</td>\n",
       "      <td>5.000000</td>\n",
       "    </tr>\n",
       "    <tr>\n",
       "      <th>25%</th>\n",
       "      <td>2.019071e+07</td>\n",
       "      <td>5.000000</td>\n",
       "    </tr>\n",
       "    <tr>\n",
       "      <th>50%</th>\n",
       "      <td>2.019072e+07</td>\n",
       "      <td>5.000000</td>\n",
       "    </tr>\n",
       "    <tr>\n",
       "      <th>75%</th>\n",
       "      <td>2.019072e+07</td>\n",
       "      <td>14.000000</td>\n",
       "    </tr>\n",
       "    <tr>\n",
       "      <th>max</th>\n",
       "      <td>2.019073e+07</td>\n",
       "      <td>279.000000</td>\n",
       "    </tr>\n",
       "  </tbody>\n",
       "</table>\n",
       "</div>"
      ],
      "text/plain": [
       "                기준일          통화건수\n",
       "count  2.637900e+04  26379.000000\n",
       "mean   2.019072e+07     12.346109\n",
       "std    8.869258e+00     14.961707\n",
       "min    2.019070e+07      5.000000\n",
       "25%    2.019071e+07      5.000000\n",
       "50%    2.019072e+07      5.000000\n",
       "75%    2.019072e+07     14.000000\n",
       "max    2.019073e+07    279.000000"
      ]
     },
     "execution_count": 5,
     "metadata": {},
     "output_type": "execute_result"
    }
   ],
   "source": [
    "chicken07.describe()"
   ]
  },
  {
   "cell_type": "code",
   "execution_count": 6,
   "metadata": {},
   "outputs": [
    {
     "data": {
      "text/plain": [
       "0        남\n",
       "1        여\n",
       "2        여\n",
       "3        여\n",
       "4        여\n",
       "        ..\n",
       "26374    여\n",
       "26375    여\n",
       "26376    여\n",
       "26377    여\n",
       "26378    남\n",
       "Name: 성별, Length: 26379, dtype: object"
      ]
     },
     "execution_count": 6,
     "metadata": {},
     "output_type": "execute_result"
    }
   ],
   "source": [
    "chicken07['성별']"
   ]
  },
  {
   "cell_type": "code",
   "execution_count": 7,
   "metadata": {},
   "outputs": [
    {
     "name": "stdout",
     "output_type": "stream",
     "text": [
      "{'여', '남'} 2\n"
     ]
    }
   ],
   "source": [
    "gender = set(chicken07['성별'])\n",
    "len(gender)\n",
    "print(gender, len(gender))"
   ]
  },
  {
   "cell_type": "code",
   "execution_count": 8,
   "metadata": {},
   "outputs": [
    {
     "name": "stdout",
     "output_type": "stream",
     "text": [
      "{'40대', '10대', '60대이상', '50대', '30대', '20대'} 6\n"
     ]
    }
   ],
   "source": [
    "age = set(chicken07['연령대'])\n",
    "len(age)\n",
    "print(age, len(age))"
   ]
  },
  {
   "cell_type": "code",
   "execution_count": 9,
   "metadata": {},
   "outputs": [
    {
     "name": "stdout",
     "output_type": "stream",
     "text": [
      "{'수', '토', '월', '금', '화', '일', '목'} 7\n"
     ]
    }
   ],
   "source": [
    "weekday = set(chicken07['요일'])\n",
    "print(weekday, len(weekday))"
   ]
  },
  {
   "cell_type": "code",
   "execution_count": 10,
   "metadata": {},
   "outputs": [
    {
     "name": "stdout",
     "output_type": "stream",
     "text": [
      "{'광진구', '은평구', '강북구', '마포구', '도봉구', '강서구', '노원구', '중랑구', '강남구', '송파구', '구로구', '관악구', '중구', '영등포구', '동작구', '용산구', '동대문구', '성동구', '양천구', '금천구', '강동구', '종로구', '서대문구', '성북구', '서초구'} 25\n"
     ]
    }
   ],
   "source": [
    "citynstate = set(chicken07['시군구'])\n",
    "print(citynstate, len(citynstate))"
   ]
  },
  {
   "cell_type": "code",
   "execution_count": 11,
   "metadata": {},
   "outputs": [
    {
     "name": "stdout",
     "output_type": "stream",
     "text": [
      "{'잠실동', '쌍문동', '창신동', '거여동', '화양동', '신설동', '수유동', '남대문로3가', '서소문동', '당산동3가', '북가좌동', '금호동4가', '충무로4가', '성북동', '낙원동', '홍파동', '수서동', '미근동', '방학동', '창천동', '도곡동', '상암동', '서교동', '암사동', '충정로2가', '연희동', '천호동', '묵동', '동자동', '신계동', '도화동', '신림동', '상도1동', '독산동', '돈암동', '신교동', '증산동', '중곡동', '녹번동', '대현동', '휘경동', '궁동', '방화동', '길음동', '청파동2가', '한강로2가', '당주동', '반포동', '가산동', '신정동', '흥인동', '신당동', '수표동', '마포동', '한강로1가', '가양동', '장안동', '영등포동5가', '용산동2가', '북아현동', '방이동', '염창동', '홍은동', '신사동', '삼선동5가', '태평로1가', '대흥동', '양평동2가', '문정동', '대조동', '대림동', '마장동', '강일동', '동작동', '종로6가', '문배동', '방산동', '창성동', '가리봉동', '상도동', '고덕동', '금호동2가', '갈월동', '상수동', '동선동2가', '풍납동', '일원동', '청진동', '논현동', '수하동', '명일동', '남현동', '도봉동', '양평동5가', '계동', '하왕십리동', '망우동', '대치동', '신도림동', '신수동', '성산동', '금호동3가', '본동', '명동2가', '미아동', '공릉동', '서초동', '대방동', '개봉동', '능동', '잠원동', '마천동', '전농동', '수색동', '장충동2가', '영등포동2가', '천왕동', '명륜3가', '구산동', '당산동', '성수동1가', '도림동', '적선동', '을지로4가', '답십리동', '정릉동', '영등포동8가', '당산동1가', '종암동', '평창동', '길동', '번동', '신내동', '문래동6가', '홍제동', '개포동', '동빙고동', '마곡동', '등촌동', '남가좌동', '광장동', '내곡동', '이촌동', '충무로1가', '숭인동', '인의동', '내발산동', '구로동', '성내동', '당산동4가', '중동', '한남동', '창전동', '방배동', '자양동', '신월동', '당산동6가', '둔촌동', '청량리동', '월계동', '우면동', '상월곡동', '중계동', '면목동', '행당동', '오류동', '노량진동', '남대문로2가', '우이동', '상왕십리동', '시흥동', '송파동', '동선동1가', '압구정동', '흑석동', '삼선동1가', '세곡동', '진관동', '여의도동', '합정동', '청담동', '예관동', '원효로3가', '상일동', '망원동', '아현동', '구의동', '공덕동', '이태원동', '목동', '남창동', '다동', '연지동', '하월곡동', '보광동', '영등포동', '석관동', '장위동', '화곡동', '불광동', '봉천동', '개화동', '동교동', '중화동', '상계동', '황학동', '남대문로5가', '갈현동', '상봉동', '도원동', '성수동2가', '양재동', '역삼동', '제기동', '신길동', '문래동3가', '신대방동', '사당동', '신천동', '안암동5가', '효창동', '삼성동', '안국동', '노고산동', '옥수동', '창동', '오금동', '하계동', '가락동'} 229\n"
     ]
    }
   ],
   "source": [
    "towns = set(chicken07['읍면동'])\n",
    "print(towns, len(towns))"
   ]
  },
  {
   "cell_type": "code",
   "execution_count": 12,
   "metadata": {},
   "outputs": [],
   "source": [
    "chicken08 = pd.read_csv('./data/chicken_08.csv')\n",
    "chicken09 = pd.read_csv('./data/chicken_09.csv')"
   ]
  },
  {
   "cell_type": "code",
   "execution_count": 13,
   "metadata": {},
   "outputs": [
    {
     "data": {
      "text/html": [
       "<div>\n",
       "<style scoped>\n",
       "    .dataframe tbody tr th:only-of-type {\n",
       "        vertical-align: middle;\n",
       "    }\n",
       "\n",
       "    .dataframe tbody tr th {\n",
       "        vertical-align: top;\n",
       "    }\n",
       "\n",
       "    .dataframe thead th {\n",
       "        text-align: right;\n",
       "    }\n",
       "</style>\n",
       "<table border=\"1\" class=\"dataframe\">\n",
       "  <thead>\n",
       "    <tr style=\"text-align: right;\">\n",
       "      <th></th>\n",
       "      <th>기준일</th>\n",
       "      <th>요일</th>\n",
       "      <th>성별</th>\n",
       "      <th>연령대</th>\n",
       "      <th>시도</th>\n",
       "      <th>시군구</th>\n",
       "      <th>읍면동</th>\n",
       "      <th>업종</th>\n",
       "      <th>통화건수</th>\n",
       "    </tr>\n",
       "  </thead>\n",
       "  <tbody>\n",
       "    <tr>\n",
       "      <th>0</th>\n",
       "      <td>20190801</td>\n",
       "      <td>목</td>\n",
       "      <td>남</td>\n",
       "      <td>30대</td>\n",
       "      <td>서울특별시</td>\n",
       "      <td>강남구</td>\n",
       "      <td>대치동</td>\n",
       "      <td>치킨</td>\n",
       "      <td>5</td>\n",
       "    </tr>\n",
       "    <tr>\n",
       "      <th>1</th>\n",
       "      <td>20190801</td>\n",
       "      <td>목</td>\n",
       "      <td>여</td>\n",
       "      <td>40대</td>\n",
       "      <td>서울특별시</td>\n",
       "      <td>강남구</td>\n",
       "      <td>신사동</td>\n",
       "      <td>치킨</td>\n",
       "      <td>5</td>\n",
       "    </tr>\n",
       "    <tr>\n",
       "      <th>2</th>\n",
       "      <td>20190801</td>\n",
       "      <td>목</td>\n",
       "      <td>여</td>\n",
       "      <td>40대</td>\n",
       "      <td>서울특별시</td>\n",
       "      <td>강남구</td>\n",
       "      <td>역삼동</td>\n",
       "      <td>치킨</td>\n",
       "      <td>41</td>\n",
       "    </tr>\n",
       "    <tr>\n",
       "      <th>3</th>\n",
       "      <td>20190801</td>\n",
       "      <td>목</td>\n",
       "      <td>여</td>\n",
       "      <td>50대</td>\n",
       "      <td>서울특별시</td>\n",
       "      <td>강남구</td>\n",
       "      <td>논현동</td>\n",
       "      <td>치킨</td>\n",
       "      <td>7</td>\n",
       "    </tr>\n",
       "    <tr>\n",
       "      <th>4</th>\n",
       "      <td>20190801</td>\n",
       "      <td>목</td>\n",
       "      <td>여</td>\n",
       "      <td>50대</td>\n",
       "      <td>서울특별시</td>\n",
       "      <td>강남구</td>\n",
       "      <td>역삼동</td>\n",
       "      <td>치킨</td>\n",
       "      <td>18</td>\n",
       "    </tr>\n",
       "    <tr>\n",
       "      <th>...</th>\n",
       "      <td>...</td>\n",
       "      <td>...</td>\n",
       "      <td>...</td>\n",
       "      <td>...</td>\n",
       "      <td>...</td>\n",
       "      <td>...</td>\n",
       "      <td>...</td>\n",
       "      <td>...</td>\n",
       "      <td>...</td>\n",
       "    </tr>\n",
       "    <tr>\n",
       "      <th>25994</th>\n",
       "      <td>20190831</td>\n",
       "      <td>토</td>\n",
       "      <td>여</td>\n",
       "      <td>50대</td>\n",
       "      <td>서울특별시</td>\n",
       "      <td>중랑구</td>\n",
       "      <td>신내동</td>\n",
       "      <td>치킨</td>\n",
       "      <td>5</td>\n",
       "    </tr>\n",
       "    <tr>\n",
       "      <th>25995</th>\n",
       "      <td>20190831</td>\n",
       "      <td>토</td>\n",
       "      <td>남</td>\n",
       "      <td>60대이상</td>\n",
       "      <td>서울특별시</td>\n",
       "      <td>중랑구</td>\n",
       "      <td>면목동</td>\n",
       "      <td>치킨</td>\n",
       "      <td>12</td>\n",
       "    </tr>\n",
       "    <tr>\n",
       "      <th>25996</th>\n",
       "      <td>20190831</td>\n",
       "      <td>토</td>\n",
       "      <td>남</td>\n",
       "      <td>10대</td>\n",
       "      <td>서울특별시</td>\n",
       "      <td>중랑구</td>\n",
       "      <td>신내동</td>\n",
       "      <td>치킨</td>\n",
       "      <td>5</td>\n",
       "    </tr>\n",
       "    <tr>\n",
       "      <th>25997</th>\n",
       "      <td>20190831</td>\n",
       "      <td>토</td>\n",
       "      <td>남</td>\n",
       "      <td>10대</td>\n",
       "      <td>서울특별시</td>\n",
       "      <td>중랑구</td>\n",
       "      <td>면목동</td>\n",
       "      <td>치킨</td>\n",
       "      <td>7</td>\n",
       "    </tr>\n",
       "    <tr>\n",
       "      <th>25998</th>\n",
       "      <td>20190831</td>\n",
       "      <td>토</td>\n",
       "      <td>여</td>\n",
       "      <td>10대</td>\n",
       "      <td>서울특별시</td>\n",
       "      <td>중랑구</td>\n",
       "      <td>면목동</td>\n",
       "      <td>치킨</td>\n",
       "      <td>5</td>\n",
       "    </tr>\n",
       "  </tbody>\n",
       "</table>\n",
       "<p>25999 rows × 9 columns</p>\n",
       "</div>"
      ],
      "text/plain": [
       "            기준일 요일 성별    연령대     시도  시군구  읍면동  업종  통화건수\n",
       "0      20190801  목  남    30대  서울특별시  강남구  대치동  치킨     5\n",
       "1      20190801  목  여    40대  서울특별시  강남구  신사동  치킨     5\n",
       "2      20190801  목  여    40대  서울특별시  강남구  역삼동  치킨    41\n",
       "3      20190801  목  여    50대  서울특별시  강남구  논현동  치킨     7\n",
       "4      20190801  목  여    50대  서울특별시  강남구  역삼동  치킨    18\n",
       "...         ... .. ..    ...    ...  ...  ...  ..   ...\n",
       "25994  20190831  토  여    50대  서울특별시  중랑구  신내동  치킨     5\n",
       "25995  20190831  토  남  60대이상  서울특별시  중랑구  면목동  치킨    12\n",
       "25996  20190831  토  남    10대  서울특별시  중랑구  신내동  치킨     5\n",
       "25997  20190831  토  남    10대  서울특별시  중랑구  면목동  치킨     7\n",
       "25998  20190831  토  여    10대  서울특별시  중랑구  면목동  치킨     5\n",
       "\n",
       "[25999 rows x 9 columns]"
      ]
     },
     "execution_count": 13,
     "metadata": {},
     "output_type": "execute_result"
    }
   ],
   "source": [
    "chicken08"
   ]
  },
  {
   "cell_type": "code",
   "execution_count": 14,
   "metadata": {},
   "outputs": [
    {
     "data": {
      "text/html": [
       "<div>\n",
       "<style scoped>\n",
       "    .dataframe tbody tr th:only-of-type {\n",
       "        vertical-align: middle;\n",
       "    }\n",
       "\n",
       "    .dataframe tbody tr th {\n",
       "        vertical-align: top;\n",
       "    }\n",
       "\n",
       "    .dataframe thead th {\n",
       "        text-align: right;\n",
       "    }\n",
       "</style>\n",
       "<table border=\"1\" class=\"dataframe\">\n",
       "  <thead>\n",
       "    <tr style=\"text-align: right;\">\n",
       "      <th></th>\n",
       "      <th>기준일</th>\n",
       "      <th>요일</th>\n",
       "      <th>성별</th>\n",
       "      <th>연령대</th>\n",
       "      <th>시도</th>\n",
       "      <th>시군구</th>\n",
       "      <th>읍면동</th>\n",
       "      <th>업종</th>\n",
       "      <th>통화건수</th>\n",
       "    </tr>\n",
       "  </thead>\n",
       "  <tbody>\n",
       "    <tr>\n",
       "      <th>0</th>\n",
       "      <td>20190901</td>\n",
       "      <td>일</td>\n",
       "      <td>여</td>\n",
       "      <td>30대</td>\n",
       "      <td>서울특별시</td>\n",
       "      <td>강남구</td>\n",
       "      <td>개포동</td>\n",
       "      <td>치킨</td>\n",
       "      <td>5</td>\n",
       "    </tr>\n",
       "    <tr>\n",
       "      <th>1</th>\n",
       "      <td>20190901</td>\n",
       "      <td>일</td>\n",
       "      <td>남</td>\n",
       "      <td>30대</td>\n",
       "      <td>서울특별시</td>\n",
       "      <td>강남구</td>\n",
       "      <td>논현동</td>\n",
       "      <td>치킨</td>\n",
       "      <td>20</td>\n",
       "    </tr>\n",
       "    <tr>\n",
       "      <th>2</th>\n",
       "      <td>20190901</td>\n",
       "      <td>일</td>\n",
       "      <td>남</td>\n",
       "      <td>30대</td>\n",
       "      <td>서울특별시</td>\n",
       "      <td>강남구</td>\n",
       "      <td>삼성동</td>\n",
       "      <td>치킨</td>\n",
       "      <td>20</td>\n",
       "    </tr>\n",
       "    <tr>\n",
       "      <th>3</th>\n",
       "      <td>20190901</td>\n",
       "      <td>일</td>\n",
       "      <td>남</td>\n",
       "      <td>30대</td>\n",
       "      <td>서울특별시</td>\n",
       "      <td>강남구</td>\n",
       "      <td>세곡동</td>\n",
       "      <td>치킨</td>\n",
       "      <td>5</td>\n",
       "    </tr>\n",
       "    <tr>\n",
       "      <th>4</th>\n",
       "      <td>20190901</td>\n",
       "      <td>일</td>\n",
       "      <td>남</td>\n",
       "      <td>30대</td>\n",
       "      <td>서울특별시</td>\n",
       "      <td>강남구</td>\n",
       "      <td>수서동</td>\n",
       "      <td>치킨</td>\n",
       "      <td>5</td>\n",
       "    </tr>\n",
       "    <tr>\n",
       "      <th>...</th>\n",
       "      <td>...</td>\n",
       "      <td>...</td>\n",
       "      <td>...</td>\n",
       "      <td>...</td>\n",
       "      <td>...</td>\n",
       "      <td>...</td>\n",
       "      <td>...</td>\n",
       "      <td>...</td>\n",
       "      <td>...</td>\n",
       "    </tr>\n",
       "    <tr>\n",
       "      <th>24112</th>\n",
       "      <td>20190930</td>\n",
       "      <td>월</td>\n",
       "      <td>남</td>\n",
       "      <td>20대</td>\n",
       "      <td>서울특별시</td>\n",
       "      <td>중랑구</td>\n",
       "      <td>면목동</td>\n",
       "      <td>치킨</td>\n",
       "      <td>8</td>\n",
       "    </tr>\n",
       "    <tr>\n",
       "      <th>24113</th>\n",
       "      <td>20190930</td>\n",
       "      <td>월</td>\n",
       "      <td>여</td>\n",
       "      <td>40대</td>\n",
       "      <td>서울특별시</td>\n",
       "      <td>중랑구</td>\n",
       "      <td>신내동</td>\n",
       "      <td>치킨</td>\n",
       "      <td>5</td>\n",
       "    </tr>\n",
       "    <tr>\n",
       "      <th>24114</th>\n",
       "      <td>20190930</td>\n",
       "      <td>월</td>\n",
       "      <td>여</td>\n",
       "      <td>40대</td>\n",
       "      <td>서울특별시</td>\n",
       "      <td>중랑구</td>\n",
       "      <td>면목동</td>\n",
       "      <td>치킨</td>\n",
       "      <td>19</td>\n",
       "    </tr>\n",
       "    <tr>\n",
       "      <th>24115</th>\n",
       "      <td>20190930</td>\n",
       "      <td>월</td>\n",
       "      <td>남</td>\n",
       "      <td>40대</td>\n",
       "      <td>서울특별시</td>\n",
       "      <td>중랑구</td>\n",
       "      <td>신내동</td>\n",
       "      <td>치킨</td>\n",
       "      <td>5</td>\n",
       "    </tr>\n",
       "    <tr>\n",
       "      <th>24116</th>\n",
       "      <td>20190930</td>\n",
       "      <td>월</td>\n",
       "      <td>남</td>\n",
       "      <td>40대</td>\n",
       "      <td>서울특별시</td>\n",
       "      <td>중랑구</td>\n",
       "      <td>중화동</td>\n",
       "      <td>치킨</td>\n",
       "      <td>5</td>\n",
       "    </tr>\n",
       "  </tbody>\n",
       "</table>\n",
       "<p>24117 rows × 9 columns</p>\n",
       "</div>"
      ],
      "text/plain": [
       "            기준일 요일 성별  연령대     시도  시군구  읍면동  업종  통화건수\n",
       "0      20190901  일  여  30대  서울특별시  강남구  개포동  치킨     5\n",
       "1      20190901  일  남  30대  서울특별시  강남구  논현동  치킨    20\n",
       "2      20190901  일  남  30대  서울특별시  강남구  삼성동  치킨    20\n",
       "3      20190901  일  남  30대  서울특별시  강남구  세곡동  치킨     5\n",
       "4      20190901  일  남  30대  서울특별시  강남구  수서동  치킨     5\n",
       "...         ... .. ..  ...    ...  ...  ...  ..   ...\n",
       "24112  20190930  월  남  20대  서울특별시  중랑구  면목동  치킨     8\n",
       "24113  20190930  월  여  40대  서울특별시  중랑구  신내동  치킨     5\n",
       "24114  20190930  월  여  40대  서울특별시  중랑구  면목동  치킨    19\n",
       "24115  20190930  월  남  40대  서울특별시  중랑구  신내동  치킨     5\n",
       "24116  20190930  월  남  40대  서울특별시  중랑구  중화동  치킨     5\n",
       "\n",
       "[24117 rows x 9 columns]"
      ]
     },
     "execution_count": 14,
     "metadata": {},
     "output_type": "execute_result"
    }
   ],
   "source": [
    "chicken09"
   ]
  },
  {
   "cell_type": "code",
   "execution_count": 15,
   "metadata": {},
   "outputs": [],
   "source": [
    "chicken_data = pd.concat([chicken07, chicken08, chicken09])"
   ]
  },
  {
   "cell_type": "code",
   "execution_count": 16,
   "metadata": {},
   "outputs": [
    {
     "data": {
      "text/html": [
       "<div>\n",
       "<style scoped>\n",
       "    .dataframe tbody tr th:only-of-type {\n",
       "        vertical-align: middle;\n",
       "    }\n",
       "\n",
       "    .dataframe tbody tr th {\n",
       "        vertical-align: top;\n",
       "    }\n",
       "\n",
       "    .dataframe thead th {\n",
       "        text-align: right;\n",
       "    }\n",
       "</style>\n",
       "<table border=\"1\" class=\"dataframe\">\n",
       "  <thead>\n",
       "    <tr style=\"text-align: right;\">\n",
       "      <th></th>\n",
       "      <th>기준일</th>\n",
       "      <th>요일</th>\n",
       "      <th>성별</th>\n",
       "      <th>연령대</th>\n",
       "      <th>시도</th>\n",
       "      <th>시군구</th>\n",
       "      <th>읍면동</th>\n",
       "      <th>업종</th>\n",
       "      <th>통화건수</th>\n",
       "    </tr>\n",
       "  </thead>\n",
       "  <tbody>\n",
       "    <tr>\n",
       "      <th>0</th>\n",
       "      <td>20190701</td>\n",
       "      <td>월</td>\n",
       "      <td>남</td>\n",
       "      <td>30대</td>\n",
       "      <td>서울특별시</td>\n",
       "      <td>강남구</td>\n",
       "      <td>논현동</td>\n",
       "      <td>치킨</td>\n",
       "      <td>8</td>\n",
       "    </tr>\n",
       "    <tr>\n",
       "      <th>1</th>\n",
       "      <td>20190701</td>\n",
       "      <td>월</td>\n",
       "      <td>여</td>\n",
       "      <td>30대</td>\n",
       "      <td>서울특별시</td>\n",
       "      <td>강남구</td>\n",
       "      <td>개포동</td>\n",
       "      <td>치킨</td>\n",
       "      <td>10</td>\n",
       "    </tr>\n",
       "    <tr>\n",
       "      <th>2</th>\n",
       "      <td>20190701</td>\n",
       "      <td>월</td>\n",
       "      <td>여</td>\n",
       "      <td>30대</td>\n",
       "      <td>서울특별시</td>\n",
       "      <td>강남구</td>\n",
       "      <td>논현동</td>\n",
       "      <td>치킨</td>\n",
       "      <td>16</td>\n",
       "    </tr>\n",
       "    <tr>\n",
       "      <th>3</th>\n",
       "      <td>20190701</td>\n",
       "      <td>월</td>\n",
       "      <td>여</td>\n",
       "      <td>30대</td>\n",
       "      <td>서울특별시</td>\n",
       "      <td>강남구</td>\n",
       "      <td>수서동</td>\n",
       "      <td>치킨</td>\n",
       "      <td>5</td>\n",
       "    </tr>\n",
       "    <tr>\n",
       "      <th>4</th>\n",
       "      <td>20190701</td>\n",
       "      <td>월</td>\n",
       "      <td>여</td>\n",
       "      <td>30대</td>\n",
       "      <td>서울특별시</td>\n",
       "      <td>강남구</td>\n",
       "      <td>대치동</td>\n",
       "      <td>치킨</td>\n",
       "      <td>5</td>\n",
       "    </tr>\n",
       "    <tr>\n",
       "      <th>...</th>\n",
       "      <td>...</td>\n",
       "      <td>...</td>\n",
       "      <td>...</td>\n",
       "      <td>...</td>\n",
       "      <td>...</td>\n",
       "      <td>...</td>\n",
       "      <td>...</td>\n",
       "      <td>...</td>\n",
       "      <td>...</td>\n",
       "    </tr>\n",
       "    <tr>\n",
       "      <th>24112</th>\n",
       "      <td>20190930</td>\n",
       "      <td>월</td>\n",
       "      <td>남</td>\n",
       "      <td>20대</td>\n",
       "      <td>서울특별시</td>\n",
       "      <td>중랑구</td>\n",
       "      <td>면목동</td>\n",
       "      <td>치킨</td>\n",
       "      <td>8</td>\n",
       "    </tr>\n",
       "    <tr>\n",
       "      <th>24113</th>\n",
       "      <td>20190930</td>\n",
       "      <td>월</td>\n",
       "      <td>여</td>\n",
       "      <td>40대</td>\n",
       "      <td>서울특별시</td>\n",
       "      <td>중랑구</td>\n",
       "      <td>신내동</td>\n",
       "      <td>치킨</td>\n",
       "      <td>5</td>\n",
       "    </tr>\n",
       "    <tr>\n",
       "      <th>24114</th>\n",
       "      <td>20190930</td>\n",
       "      <td>월</td>\n",
       "      <td>여</td>\n",
       "      <td>40대</td>\n",
       "      <td>서울특별시</td>\n",
       "      <td>중랑구</td>\n",
       "      <td>면목동</td>\n",
       "      <td>치킨</td>\n",
       "      <td>19</td>\n",
       "    </tr>\n",
       "    <tr>\n",
       "      <th>24115</th>\n",
       "      <td>20190930</td>\n",
       "      <td>월</td>\n",
       "      <td>남</td>\n",
       "      <td>40대</td>\n",
       "      <td>서울특별시</td>\n",
       "      <td>중랑구</td>\n",
       "      <td>신내동</td>\n",
       "      <td>치킨</td>\n",
       "      <td>5</td>\n",
       "    </tr>\n",
       "    <tr>\n",
       "      <th>24116</th>\n",
       "      <td>20190930</td>\n",
       "      <td>월</td>\n",
       "      <td>남</td>\n",
       "      <td>40대</td>\n",
       "      <td>서울특별시</td>\n",
       "      <td>중랑구</td>\n",
       "      <td>중화동</td>\n",
       "      <td>치킨</td>\n",
       "      <td>5</td>\n",
       "    </tr>\n",
       "  </tbody>\n",
       "</table>\n",
       "<p>76495 rows × 9 columns</p>\n",
       "</div>"
      ],
      "text/plain": [
       "            기준일 요일 성별  연령대     시도  시군구  읍면동  업종  통화건수\n",
       "0      20190701  월  남  30대  서울특별시  강남구  논현동  치킨     8\n",
       "1      20190701  월  여  30대  서울특별시  강남구  개포동  치킨    10\n",
       "2      20190701  월  여  30대  서울특별시  강남구  논현동  치킨    16\n",
       "3      20190701  월  여  30대  서울특별시  강남구  수서동  치킨     5\n",
       "4      20190701  월  여  30대  서울특별시  강남구  대치동  치킨     5\n",
       "...         ... .. ..  ...    ...  ...  ...  ..   ...\n",
       "24112  20190930  월  남  20대  서울특별시  중랑구  면목동  치킨     8\n",
       "24113  20190930  월  여  40대  서울특별시  중랑구  신내동  치킨     5\n",
       "24114  20190930  월  여  40대  서울특별시  중랑구  면목동  치킨    19\n",
       "24115  20190930  월  남  40대  서울특별시  중랑구  신내동  치킨     5\n",
       "24116  20190930  월  남  40대  서울특별시  중랑구  중화동  치킨     5\n",
       "\n",
       "[76495 rows x 9 columns]"
      ]
     },
     "execution_count": 16,
     "metadata": {},
     "output_type": "execute_result"
    }
   ],
   "source": [
    "chicken_data"
   ]
  },
  {
   "cell_type": "code",
   "execution_count": 17,
   "metadata": {},
   "outputs": [],
   "source": [
    "chicken_data = chicken_data.reset_index(drop=True)"
   ]
  },
  {
   "cell_type": "code",
   "execution_count": 18,
   "metadata": {},
   "outputs": [
    {
     "data": {
      "text/html": [
       "<div>\n",
       "<style scoped>\n",
       "    .dataframe tbody tr th:only-of-type {\n",
       "        vertical-align: middle;\n",
       "    }\n",
       "\n",
       "    .dataframe tbody tr th {\n",
       "        vertical-align: top;\n",
       "    }\n",
       "\n",
       "    .dataframe thead th {\n",
       "        text-align: right;\n",
       "    }\n",
       "</style>\n",
       "<table border=\"1\" class=\"dataframe\">\n",
       "  <thead>\n",
       "    <tr style=\"text-align: right;\">\n",
       "      <th></th>\n",
       "      <th>기준일</th>\n",
       "      <th>요일</th>\n",
       "      <th>성별</th>\n",
       "      <th>연령대</th>\n",
       "      <th>시도</th>\n",
       "      <th>시군구</th>\n",
       "      <th>읍면동</th>\n",
       "      <th>업종</th>\n",
       "      <th>통화건수</th>\n",
       "    </tr>\n",
       "  </thead>\n",
       "  <tbody>\n",
       "    <tr>\n",
       "      <th>0</th>\n",
       "      <td>20190701</td>\n",
       "      <td>월</td>\n",
       "      <td>남</td>\n",
       "      <td>30대</td>\n",
       "      <td>서울특별시</td>\n",
       "      <td>강남구</td>\n",
       "      <td>논현동</td>\n",
       "      <td>치킨</td>\n",
       "      <td>8</td>\n",
       "    </tr>\n",
       "    <tr>\n",
       "      <th>1</th>\n",
       "      <td>20190701</td>\n",
       "      <td>월</td>\n",
       "      <td>여</td>\n",
       "      <td>30대</td>\n",
       "      <td>서울특별시</td>\n",
       "      <td>강남구</td>\n",
       "      <td>개포동</td>\n",
       "      <td>치킨</td>\n",
       "      <td>10</td>\n",
       "    </tr>\n",
       "    <tr>\n",
       "      <th>2</th>\n",
       "      <td>20190701</td>\n",
       "      <td>월</td>\n",
       "      <td>여</td>\n",
       "      <td>30대</td>\n",
       "      <td>서울특별시</td>\n",
       "      <td>강남구</td>\n",
       "      <td>논현동</td>\n",
       "      <td>치킨</td>\n",
       "      <td>16</td>\n",
       "    </tr>\n",
       "    <tr>\n",
       "      <th>3</th>\n",
       "      <td>20190701</td>\n",
       "      <td>월</td>\n",
       "      <td>여</td>\n",
       "      <td>30대</td>\n",
       "      <td>서울특별시</td>\n",
       "      <td>강남구</td>\n",
       "      <td>수서동</td>\n",
       "      <td>치킨</td>\n",
       "      <td>5</td>\n",
       "    </tr>\n",
       "    <tr>\n",
       "      <th>4</th>\n",
       "      <td>20190701</td>\n",
       "      <td>월</td>\n",
       "      <td>여</td>\n",
       "      <td>30대</td>\n",
       "      <td>서울특별시</td>\n",
       "      <td>강남구</td>\n",
       "      <td>대치동</td>\n",
       "      <td>치킨</td>\n",
       "      <td>5</td>\n",
       "    </tr>\n",
       "    <tr>\n",
       "      <th>...</th>\n",
       "      <td>...</td>\n",
       "      <td>...</td>\n",
       "      <td>...</td>\n",
       "      <td>...</td>\n",
       "      <td>...</td>\n",
       "      <td>...</td>\n",
       "      <td>...</td>\n",
       "      <td>...</td>\n",
       "      <td>...</td>\n",
       "    </tr>\n",
       "    <tr>\n",
       "      <th>76490</th>\n",
       "      <td>20190930</td>\n",
       "      <td>월</td>\n",
       "      <td>남</td>\n",
       "      <td>20대</td>\n",
       "      <td>서울특별시</td>\n",
       "      <td>중랑구</td>\n",
       "      <td>면목동</td>\n",
       "      <td>치킨</td>\n",
       "      <td>8</td>\n",
       "    </tr>\n",
       "    <tr>\n",
       "      <th>76491</th>\n",
       "      <td>20190930</td>\n",
       "      <td>월</td>\n",
       "      <td>여</td>\n",
       "      <td>40대</td>\n",
       "      <td>서울특별시</td>\n",
       "      <td>중랑구</td>\n",
       "      <td>신내동</td>\n",
       "      <td>치킨</td>\n",
       "      <td>5</td>\n",
       "    </tr>\n",
       "    <tr>\n",
       "      <th>76492</th>\n",
       "      <td>20190930</td>\n",
       "      <td>월</td>\n",
       "      <td>여</td>\n",
       "      <td>40대</td>\n",
       "      <td>서울특별시</td>\n",
       "      <td>중랑구</td>\n",
       "      <td>면목동</td>\n",
       "      <td>치킨</td>\n",
       "      <td>19</td>\n",
       "    </tr>\n",
       "    <tr>\n",
       "      <th>76493</th>\n",
       "      <td>20190930</td>\n",
       "      <td>월</td>\n",
       "      <td>남</td>\n",
       "      <td>40대</td>\n",
       "      <td>서울특별시</td>\n",
       "      <td>중랑구</td>\n",
       "      <td>신내동</td>\n",
       "      <td>치킨</td>\n",
       "      <td>5</td>\n",
       "    </tr>\n",
       "    <tr>\n",
       "      <th>76494</th>\n",
       "      <td>20190930</td>\n",
       "      <td>월</td>\n",
       "      <td>남</td>\n",
       "      <td>40대</td>\n",
       "      <td>서울특별시</td>\n",
       "      <td>중랑구</td>\n",
       "      <td>중화동</td>\n",
       "      <td>치킨</td>\n",
       "      <td>5</td>\n",
       "    </tr>\n",
       "  </tbody>\n",
       "</table>\n",
       "<p>76495 rows × 9 columns</p>\n",
       "</div>"
      ],
      "text/plain": [
       "            기준일 요일 성별  연령대     시도  시군구  읍면동  업종  통화건수\n",
       "0      20190701  월  남  30대  서울특별시  강남구  논현동  치킨     8\n",
       "1      20190701  월  여  30대  서울특별시  강남구  개포동  치킨    10\n",
       "2      20190701  월  여  30대  서울특별시  강남구  논현동  치킨    16\n",
       "3      20190701  월  여  30대  서울특별시  강남구  수서동  치킨     5\n",
       "4      20190701  월  여  30대  서울특별시  강남구  대치동  치킨     5\n",
       "...         ... .. ..  ...    ...  ...  ...  ..   ...\n",
       "76490  20190930  월  남  20대  서울특별시  중랑구  면목동  치킨     8\n",
       "76491  20190930  월  여  40대  서울특별시  중랑구  신내동  치킨     5\n",
       "76492  20190930  월  여  40대  서울특별시  중랑구  면목동  치킨    19\n",
       "76493  20190930  월  남  40대  서울특별시  중랑구  신내동  치킨     5\n",
       "76494  20190930  월  남  40대  서울특별시  중랑구  중화동  치킨     5\n",
       "\n",
       "[76495 rows x 9 columns]"
      ]
     },
     "execution_count": 18,
     "metadata": {},
     "output_type": "execute_result"
    }
   ],
   "source": [
    "chicken_data"
   ]
  },
  {
   "cell_type": "code",
   "execution_count": 19,
   "metadata": {},
   "outputs": [],
   "source": [
    "import matplotlib.pyplot as plt"
   ]
  },
  {
   "cell_type": "code",
   "execution_count": 20,
   "metadata": {},
   "outputs": [
    {
     "data": {
      "text/plain": [
       "요일\n",
       "금    159290\n",
       "목    118210\n",
       "수    118295\n",
       "월    108492\n",
       "일    158864\n",
       "토    165949\n",
       "화    108243\n",
       "Name: 통화건수, dtype: int64"
      ]
     },
     "execution_count": 20,
     "metadata": {},
     "output_type": "execute_result"
    }
   ],
   "source": [
    "groupdata = chicken_data.groupby('요일')\n",
    "call_data = groupdata['통화건수']\n",
    "sum_data = call_data.sum()\n",
    "sum_data"
   ]
  },
  {
   "cell_type": "code",
   "execution_count": 21,
   "metadata": {},
   "outputs": [
    {
     "data": {
      "text/plain": [
       "Text(0.5, 1.0, '요일별 통합건수')"
      ]
     },
     "execution_count": 21,
     "metadata": {},
     "output_type": "execute_result"
    },
    {
     "data": {
      "image/png": "[encoded data removed]",
      "text/plain": [
       "<Figure size 720x576 with 1 Axes>"
      ]
     },
     "metadata": {
      "needs_background": "light"
     },
     "output_type": "display_data"
    }
   ],
   "source": [
    "plt.rcParams['font.family']=\"AppleGothic\"\n",
    "plt.figure(figsize=(10,8))\n",
    "plt.bar(sum_data.index, sum_data)\n",
    "plt.title('요일별 통합건수')"
   ]
  },
  {
   "cell_type": "code",
   "execution_count": 22,
   "metadata": {},
   "outputs": [
    {
     "data": {
      "text/plain": [
       "요일\n",
       "토    165949\n",
       "금    159290\n",
       "일    158864\n",
       "수    118295\n",
       "목    118210\n",
       "월    108492\n",
       "화    108243\n",
       "Name: 통화건수, dtype: int64"
      ]
     },
     "execution_count": 22,
     "metadata": {},
     "output_type": "execute_result"
    }
   ],
   "source": [
    "sorted_data = sum_data.sort_values(ascending=False)\n",
    "sorted_data"
   ]
  },
  {
   "cell_type": "code",
   "execution_count": 23,
   "metadata": {},
   "outputs": [
    {
     "data": {
      "text/plain": [
       "Text(0.5, 1.0, '요일별 통화건수')"
      ]
     },
     "execution_count": 23,
     "metadata": {},
     "output_type": "execute_result"
    },
    {
     "data": {
      "image/png": "[encoded data removed]",
      "text/plain": [
       "<Figure size 720x576 with 1 Axes>"
      ]
     },
     "metadata": {
      "needs_background": "light"
     },
     "output_type": "display_data"
    }
   ],
   "source": [
    "plt.rcParams['font.family']=\"AppleGothic\"\n",
    "plt.figure(figsize=(10,8))\n",
    "plt.bar(sorted_data.index, sorted_data)\n",
    "plt.title('요일별 통화건수')"
   ]
  },
  {
   "cell_type": "code",
   "execution_count": 24,
   "metadata": {},
   "outputs": [],
   "source": [
    "weeks = ['월', '화', '수', '목', '금', '토', '일']\n",
    "weeks_data = chicken_data.groupby('요일').sum()['통화건수'].sort_values(ascending=True)"
   ]
  },
  {
   "cell_type": "code",
   "execution_count": 25,
   "metadata": {},
   "outputs": [
    {
     "data": {
      "text/plain": [
       "Text(0.5, 1.0, '요일별 통화건수')"
      ]
     },
     "execution_count": 25,
     "metadata": {},
     "output_type": "execute_result"
    },
    {
     "data": {
      "image/png": "[encoded data removed]",
      "text/plain": [
       "<Figure size 720x576 with 1 Axes>"
      ]
     },
     "metadata": {
      "needs_background": "light"
     },
     "output_type": "display_data"
    }
   ],
   "source": [
    "plt.rcParams['font.family']=\"AppleGothic\"\n",
    "plt.figure(figsize=(10,8))\n",
    "plt.bar(weeks_data.index, weeks_data)\n",
    "plt.title('요일별 통화건수')"
   ]
  },
  {
   "cell_type": "code",
   "execution_count": 26,
   "metadata": {},
   "outputs": [
    {
     "data": {
      "text/plain": [
       "연령대\n",
       "40대      287168\n",
       "30대      216488\n",
       "20대      155159\n",
       "50대      136148\n",
       "60대이상     75413\n",
       "10대       66967\n",
       "Name: 통화건수, dtype: int64"
      ]
     },
     "execution_count": 26,
     "metadata": {},
     "output_type": "execute_result"
    }
   ],
   "source": [
    "age_group = chicken_data.groupby('연령대').sum()['통화건수'].sort_values(ascending=False)\n",
    "age_group"
   ]
  },
  {
   "cell_type": "code",
   "execution_count": 27,
   "metadata": {},
   "outputs": [
    {
     "data": {
      "text/plain": [
       "Text(0.5, 1.0, '연령대별 치킨 주문량')"
      ]
     },
     "execution_count": 27,
     "metadata": {},
     "output_type": "execute_result"
    },
    {
     "data": {
      "image/png": "[encoded data removed]",
      "text/plain": [
       "<Figure size 720x576 with 1 Axes>"
      ]
     },
     "metadata": {
      "needs_background": "light"
     },
     "output_type": "display_data"
    }
   ],
   "source": [
    "plt.figure(figsize=(10,8))\n",
    "plt.bar(age_group.index, age_group)\n",
    "plt.title(\"연령대별 치킨 주문량\")"
   ]
  },
  {
   "cell_type": "code",
   "execution_count": 28,
   "metadata": {},
   "outputs": [
    {
     "data": {
      "text/html": [
       "<div>\n",
       "<style scoped>\n",
       "    .dataframe tbody tr th:only-of-type {\n",
       "        vertical-align: middle;\n",
       "    }\n",
       "\n",
       "    .dataframe tbody tr th {\n",
       "        vertical-align: top;\n",
       "    }\n",
       "\n",
       "    .dataframe thead th {\n",
       "        text-align: right;\n",
       "    }\n",
       "</style>\n",
       "<table border=\"1\" class=\"dataframe\">\n",
       "  <thead>\n",
       "    <tr style=\"text-align: right;\">\n",
       "      <th></th>\n",
       "      <th>기준일</th>\n",
       "      <th>요일</th>\n",
       "      <th>성별</th>\n",
       "      <th>연령대</th>\n",
       "      <th>시도</th>\n",
       "      <th>시군구</th>\n",
       "      <th>읍면동</th>\n",
       "      <th>업종</th>\n",
       "      <th>통화건수</th>\n",
       "    </tr>\n",
       "  </thead>\n",
       "  <tbody>\n",
       "    <tr>\n",
       "      <th>0</th>\n",
       "      <td>20190701</td>\n",
       "      <td>월</td>\n",
       "      <td>남</td>\n",
       "      <td>30대</td>\n",
       "      <td>서울특별시</td>\n",
       "      <td>강남구</td>\n",
       "      <td>논현동</td>\n",
       "      <td>치킨</td>\n",
       "      <td>8</td>\n",
       "    </tr>\n",
       "    <tr>\n",
       "      <th>1</th>\n",
       "      <td>20190701</td>\n",
       "      <td>월</td>\n",
       "      <td>여</td>\n",
       "      <td>30대</td>\n",
       "      <td>서울특별시</td>\n",
       "      <td>강남구</td>\n",
       "      <td>개포동</td>\n",
       "      <td>치킨</td>\n",
       "      <td>10</td>\n",
       "    </tr>\n",
       "    <tr>\n",
       "      <th>2</th>\n",
       "      <td>20190701</td>\n",
       "      <td>월</td>\n",
       "      <td>여</td>\n",
       "      <td>30대</td>\n",
       "      <td>서울특별시</td>\n",
       "      <td>강남구</td>\n",
       "      <td>논현동</td>\n",
       "      <td>치킨</td>\n",
       "      <td>16</td>\n",
       "    </tr>\n",
       "    <tr>\n",
       "      <th>3</th>\n",
       "      <td>20190701</td>\n",
       "      <td>월</td>\n",
       "      <td>여</td>\n",
       "      <td>30대</td>\n",
       "      <td>서울특별시</td>\n",
       "      <td>강남구</td>\n",
       "      <td>수서동</td>\n",
       "      <td>치킨</td>\n",
       "      <td>5</td>\n",
       "    </tr>\n",
       "    <tr>\n",
       "      <th>4</th>\n",
       "      <td>20190701</td>\n",
       "      <td>월</td>\n",
       "      <td>여</td>\n",
       "      <td>30대</td>\n",
       "      <td>서울특별시</td>\n",
       "      <td>강남구</td>\n",
       "      <td>대치동</td>\n",
       "      <td>치킨</td>\n",
       "      <td>5</td>\n",
       "    </tr>\n",
       "    <tr>\n",
       "      <th>...</th>\n",
       "      <td>...</td>\n",
       "      <td>...</td>\n",
       "      <td>...</td>\n",
       "      <td>...</td>\n",
       "      <td>...</td>\n",
       "      <td>...</td>\n",
       "      <td>...</td>\n",
       "      <td>...</td>\n",
       "      <td>...</td>\n",
       "    </tr>\n",
       "    <tr>\n",
       "      <th>76490</th>\n",
       "      <td>20190930</td>\n",
       "      <td>월</td>\n",
       "      <td>남</td>\n",
       "      <td>20대</td>\n",
       "      <td>서울특별시</td>\n",
       "      <td>중랑구</td>\n",
       "      <td>면목동</td>\n",
       "      <td>치킨</td>\n",
       "      <td>8</td>\n",
       "    </tr>\n",
       "    <tr>\n",
       "      <th>76491</th>\n",
       "      <td>20190930</td>\n",
       "      <td>월</td>\n",
       "      <td>여</td>\n",
       "      <td>40대</td>\n",
       "      <td>서울특별시</td>\n",
       "      <td>중랑구</td>\n",
       "      <td>신내동</td>\n",
       "      <td>치킨</td>\n",
       "      <td>5</td>\n",
       "    </tr>\n",
       "    <tr>\n",
       "      <th>76492</th>\n",
       "      <td>20190930</td>\n",
       "      <td>월</td>\n",
       "      <td>여</td>\n",
       "      <td>40대</td>\n",
       "      <td>서울특별시</td>\n",
       "      <td>중랑구</td>\n",
       "      <td>면목동</td>\n",
       "      <td>치킨</td>\n",
       "      <td>19</td>\n",
       "    </tr>\n",
       "    <tr>\n",
       "      <th>76493</th>\n",
       "      <td>20190930</td>\n",
       "      <td>월</td>\n",
       "      <td>남</td>\n",
       "      <td>40대</td>\n",
       "      <td>서울특별시</td>\n",
       "      <td>중랑구</td>\n",
       "      <td>신내동</td>\n",
       "      <td>치킨</td>\n",
       "      <td>5</td>\n",
       "    </tr>\n",
       "    <tr>\n",
       "      <th>76494</th>\n",
       "      <td>20190930</td>\n",
       "      <td>월</td>\n",
       "      <td>남</td>\n",
       "      <td>40대</td>\n",
       "      <td>서울특별시</td>\n",
       "      <td>중랑구</td>\n",
       "      <td>중화동</td>\n",
       "      <td>치킨</td>\n",
       "      <td>5</td>\n",
       "    </tr>\n",
       "  </tbody>\n",
       "</table>\n",
       "<p>76495 rows × 9 columns</p>\n",
       "</div>"
      ],
      "text/plain": [
       "            기준일 요일 성별  연령대     시도  시군구  읍면동  업종  통화건수\n",
       "0      20190701  월  남  30대  서울특별시  강남구  논현동  치킨     8\n",
       "1      20190701  월  여  30대  서울특별시  강남구  개포동  치킨    10\n",
       "2      20190701  월  여  30대  서울특별시  강남구  논현동  치킨    16\n",
       "3      20190701  월  여  30대  서울특별시  강남구  수서동  치킨     5\n",
       "4      20190701  월  여  30대  서울특별시  강남구  대치동  치킨     5\n",
       "...         ... .. ..  ...    ...  ...  ...  ..   ...\n",
       "76490  20190930  월  남  20대  서울특별시  중랑구  면목동  치킨     8\n",
       "76491  20190930  월  여  40대  서울특별시  중랑구  신내동  치킨     5\n",
       "76492  20190930  월  여  40대  서울특별시  중랑구  면목동  치킨    19\n",
       "76493  20190930  월  남  40대  서울특별시  중랑구  신내동  치킨     5\n",
       "76494  20190930  월  남  40대  서울특별시  중랑구  중화동  치킨     5\n",
       "\n",
       "[76495 rows x 9 columns]"
      ]
     },
     "execution_count": 28,
     "metadata": {},
     "output_type": "execute_result"
    }
   ],
   "source": [
    "chicken_data"
   ]
  },
  {
   "cell_type": "code",
   "execution_count": 29,
   "metadata": {},
   "outputs": [
    {
     "data": {
      "text/plain": [
       "Text(0.5, 1.0, '지역별 주문량')"
      ]
     },
     "execution_count": 29,
     "metadata": {},
     "output_type": "execute_result"
    },
    {
     "data": {
      "image/png": "[encoded data removed]",
      "text/plain": [
       "<Figure size 1440x576 with 1 Axes>"
      ]
     },
     "metadata": {
      "needs_background": "light"
     },
     "output_type": "display_data"
    }
   ],
   "source": [
    "citynstate = chicken_data.groupby('시군구').sum()['통화건수'].sort_values(ascending=False)\n",
    "plt.figure(figsize=(20,8))\n",
    "plt.bar(citynstate.index, citynstate)\n",
    "plt.title(\"지역별 주문량\")\n"
   ]
  },
  {
   "cell_type": "code",
   "execution_count": 30,
   "metadata": {},
   "outputs": [
    {
     "data": {
      "text/html": [
       "<div>\n",
       "<style scoped>\n",
       "    .dataframe tbody tr th:only-of-type {\n",
       "        vertical-align: middle;\n",
       "    }\n",
       "\n",
       "    .dataframe tbody tr th {\n",
       "        vertical-align: top;\n",
       "    }\n",
       "\n",
       "    .dataframe thead th {\n",
       "        text-align: right;\n",
       "    }\n",
       "</style>\n",
       "<table border=\"1\" class=\"dataframe\">\n",
       "  <thead>\n",
       "    <tr style=\"text-align: right;\">\n",
       "      <th></th>\n",
       "      <th>일자</th>\n",
       "      <th>요일</th>\n",
       "      <th>성별</th>\n",
       "      <th>연령</th>\n",
       "      <th>발신지_시도</th>\n",
       "      <th>발신지_구</th>\n",
       "      <th>발신지_동</th>\n",
       "      <th>통화건수</th>\n",
       "    </tr>\n",
       "  </thead>\n",
       "  <tbody>\n",
       "    <tr>\n",
       "      <th>0</th>\n",
       "      <td>20190901</td>\n",
       "      <td>일</td>\n",
       "      <td>남</td>\n",
       "      <td>30대</td>\n",
       "      <td>서울특별시</td>\n",
       "      <td>강남구</td>\n",
       "      <td>삼성동</td>\n",
       "      <td>9</td>\n",
       "    </tr>\n",
       "    <tr>\n",
       "      <th>1</th>\n",
       "      <td>20190901</td>\n",
       "      <td>일</td>\n",
       "      <td>남</td>\n",
       "      <td>30대</td>\n",
       "      <td>서울특별시</td>\n",
       "      <td>강남구</td>\n",
       "      <td>논현동</td>\n",
       "      <td>10</td>\n",
       "    </tr>\n",
       "    <tr>\n",
       "      <th>2</th>\n",
       "      <td>20190901</td>\n",
       "      <td>일</td>\n",
       "      <td>남</td>\n",
       "      <td>30대</td>\n",
       "      <td>서울특별시</td>\n",
       "      <td>강남구</td>\n",
       "      <td>개포동</td>\n",
       "      <td>5</td>\n",
       "    </tr>\n",
       "    <tr>\n",
       "      <th>3</th>\n",
       "      <td>20190901</td>\n",
       "      <td>일</td>\n",
       "      <td>여</td>\n",
       "      <td>50대</td>\n",
       "      <td>서울특별시</td>\n",
       "      <td>강남구</td>\n",
       "      <td>삼성동</td>\n",
       "      <td>7</td>\n",
       "    </tr>\n",
       "    <tr>\n",
       "      <th>4</th>\n",
       "      <td>20190901</td>\n",
       "      <td>일</td>\n",
       "      <td>여</td>\n",
       "      <td>50대</td>\n",
       "      <td>서울특별시</td>\n",
       "      <td>강남구</td>\n",
       "      <td>도곡동</td>\n",
       "      <td>5</td>\n",
       "    </tr>\n",
       "    <tr>\n",
       "      <th>...</th>\n",
       "      <td>...</td>\n",
       "      <td>...</td>\n",
       "      <td>...</td>\n",
       "      <td>...</td>\n",
       "      <td>...</td>\n",
       "      <td>...</td>\n",
       "      <td>...</td>\n",
       "      <td>...</td>\n",
       "    </tr>\n",
       "    <tr>\n",
       "      <th>18220</th>\n",
       "      <td>20190930</td>\n",
       "      <td>월</td>\n",
       "      <td>남</td>\n",
       "      <td>20대</td>\n",
       "      <td>서울특별시</td>\n",
       "      <td>중랑구</td>\n",
       "      <td>묵동</td>\n",
       "      <td>5</td>\n",
       "    </tr>\n",
       "    <tr>\n",
       "      <th>18221</th>\n",
       "      <td>20190930</td>\n",
       "      <td>월</td>\n",
       "      <td>남</td>\n",
       "      <td>30대</td>\n",
       "      <td>서울특별시</td>\n",
       "      <td>중랑구</td>\n",
       "      <td>면목동</td>\n",
       "      <td>5</td>\n",
       "    </tr>\n",
       "    <tr>\n",
       "      <th>18222</th>\n",
       "      <td>20190930</td>\n",
       "      <td>월</td>\n",
       "      <td>여</td>\n",
       "      <td>20대</td>\n",
       "      <td>서울특별시</td>\n",
       "      <td>중랑구</td>\n",
       "      <td>면목동</td>\n",
       "      <td>11</td>\n",
       "    </tr>\n",
       "    <tr>\n",
       "      <th>18223</th>\n",
       "      <td>20190930</td>\n",
       "      <td>월</td>\n",
       "      <td>여</td>\n",
       "      <td>20대</td>\n",
       "      <td>서울특별시</td>\n",
       "      <td>중랑구</td>\n",
       "      <td>중화동</td>\n",
       "      <td>5</td>\n",
       "    </tr>\n",
       "    <tr>\n",
       "      <th>18224</th>\n",
       "      <td>20190930</td>\n",
       "      <td>월</td>\n",
       "      <td>여</td>\n",
       "      <td>50대</td>\n",
       "      <td>서울특별시</td>\n",
       "      <td>중랑구</td>\n",
       "      <td>망우동</td>\n",
       "      <td>5</td>\n",
       "    </tr>\n",
       "  </tbody>\n",
       "</table>\n",
       "<p>18225 rows × 8 columns</p>\n",
       "</div>"
      ],
      "text/plain": [
       "             일자 요일 성별   연령 발신지_시도 발신지_구 발신지_동  통화건수\n",
       "0      20190901  일  남  30대  서울특별시   강남구   삼성동     9\n",
       "1      20190901  일  남  30대  서울특별시   강남구   논현동    10\n",
       "2      20190901  일  남  30대  서울특별시   강남구   개포동     5\n",
       "3      20190901  일  여  50대  서울특별시   강남구   삼성동     7\n",
       "4      20190901  일  여  50대  서울특별시   강남구   도곡동     5\n",
       "...         ... .. ..  ...    ...   ...   ...   ...\n",
       "18220  20190930  월  남  20대  서울특별시   중랑구    묵동     5\n",
       "18221  20190930  월  남  30대  서울특별시   중랑구   면목동     5\n",
       "18222  20190930  월  여  20대  서울특별시   중랑구   면목동    11\n",
       "18223  20190930  월  여  20대  서울특별시   중랑구   중화동     5\n",
       "18224  20190930  월  여  50대  서울특별시   중랑구   망우동     5\n",
       "\n",
       "[18225 rows x 8 columns]"
      ]
     },
     "execution_count": 30,
     "metadata": {},
     "output_type": "execute_result"
    }
   ],
   "source": [
    "pizza_data = pd.read_csv('./data/pizza_09.csv')\n",
    "pizza_data"
   ]
  },
  {
   "cell_type": "code",
   "execution_count": 31,
   "metadata": {},
   "outputs": [
    {
     "data": {
      "text/plain": [
       "요일\n",
       "화    14902\n",
       "목    16226\n",
       "월    16949\n",
       "수    17136\n",
       "금    17147\n",
       "토    24951\n",
       "일    30772\n",
       "Name: 통화건수, dtype: int64"
      ]
     },
     "execution_count": 31,
     "metadata": {},
     "output_type": "execute_result"
    }
   ],
   "source": [
    "weeks = ['월','화','수','목','금','토','일']\n",
    "order_date = pizza_data.groupby('요일').sum()['통화건수'].sort_values(ascending=True)\n",
    "order_date"
   ]
  },
  {
   "cell_type": "code",
   "execution_count": 32,
   "metadata": {},
   "outputs": [
    {
     "data": {
      "text/plain": [
       "Text(0.5, 1.0, '요일별 주문량')"
      ]
     },
     "execution_count": 32,
     "metadata": {},
     "output_type": "execute_result"
    },
    {
     "data": {
      "image/png": "[encoded data removed]",
      "text/plain": [
       "<Figure size 720x576 with 1 Axes>"
      ]
     },
     "metadata": {
      "needs_background": "light"
     },
     "output_type": "display_data"
    }
   ],
   "source": [
    "plt.figure(figsize=(10,8))\n",
    "plt.bar(order_date.index, order_date)\n",
    "plt.title(\"요일별 주문량\")"
   ]
  },
  {
   "cell_type": "code",
   "execution_count": 33,
   "metadata": {},
   "outputs": [
    {
     "data": {
      "text/plain": [
       "Text(0.5, 1.0, '지역별 주문량')"
      ]
     },
     "execution_count": 33,
     "metadata": {},
     "output_type": "execute_result"
    },
    {
     "data": {
      "image/png": "[encoded data removed]",
      "text/plain": [
       "<Figure size 1440x576 with 1 Axes>"
      ]
     },
     "metadata": {
      "needs_background": "light"
     },
     "output_type": "display_data"
    }
   ],
   "source": [
    "state = pizza_data.groupby('발신지_구').sum()['통화건수'].sort_values(ascending=True)\n",
    "plt.figure(figsize=(20,8))\n",
    "plt.bar(state.index, state)\n",
    "plt.title(\"지역별 주문량\")"
   ]
  },
  {
   "cell_type": "code",
   "execution_count": 34,
   "metadata": {},
   "outputs": [
    {
     "data": {
      "text/plain": [
       "Text(0.5, 1.0, '요일별 주문량')"
      ]
     },
     "execution_count": 34,
     "metadata": {},
     "output_type": "execute_result"
    },
    {
     "data": {
      "image/png": "[encoded data removed]",
      "text/plain": [
       "<Figure size 720x576 with 1 Axes>"
      ]
     },
     "metadata": {
      "needs_background": "light"
     },
     "output_type": "display_data"
    }
   ],
   "source": [
    "chicken_week_data = chicken09.groupby('요일').sum()['통화건수'].sort_values(ascending=True)\n",
    "plt.figure(figsize=(10,8))\n",
    "plt.bar(chicken_week_data.index, chicken_week_data)\n",
    "plt.bar(order_date.index, order_date)\n",
    "plt.title(\"요일별 주문량\")\n"
   ]
  },
  {
   "cell_type": "code",
   "execution_count": 35,
   "metadata": {},
   "outputs": [
    {
     "data": {
      "text/plain": [
       "[<matplotlib.lines.Line2D at 0x7ff9d902bfd0>]"
      ]
     },
     "execution_count": 35,
     "metadata": {},
     "output_type": "execute_result"
    },
    {
     "data": {
      "image/png": "[encoded data removed]",
      "text/plain": [
       "<Figure size 432x288 with 1 Axes>"
      ]
     },
     "metadata": {
      "needs_background": "light"
     },
     "output_type": "display_data"
    }
   ],
   "source": [
    "plt.plot(chicken_week_data.index, chicken_week_data)\n",
    "plt.plot(order_date.index, order_date)"
   ]
  },
  {
   "cell_type": "code",
   "execution_count": 36,
   "metadata": {},
   "outputs": [
    {
     "data": {
      "text/plain": [
       "요일\n",
       "화    32462\n",
       "목    33638\n",
       "월    34618\n",
       "수    35501\n",
       "금    42603\n",
       "토    52460\n",
       "일    58074\n",
       "Name: 통화건수, dtype: int64"
      ]
     },
     "execution_count": 36,
     "metadata": {},
     "output_type": "execute_result"
    }
   ],
   "source": [
    "chicken_week_data"
   ]
  },
  {
   "cell_type": "code",
   "execution_count": 37,
   "metadata": {},
   "outputs": [
    {
     "data": {
      "text/plain": [
       "<pandas.core.groupby.generic.SeriesGroupBy object at 0x7ffa10d05fd0>"
      ]
     },
     "execution_count": 37,
     "metadata": {},
     "output_type": "execute_result"
    }
   ],
   "source": [
    "call_data"
   ]
  },
  {
   "cell_type": "code",
   "execution_count": 41,
   "metadata": {},
   "outputs": [
    {
     "data": {
      "text/plain": [
       "요일\n",
       "금    159290\n",
       "목    118210\n",
       "수    118295\n",
       "월    108492\n",
       "일    158864\n",
       "토    165949\n",
       "화    108243\n",
       "Name: 통화건수, dtype: int64"
      ]
     },
     "execution_count": 41,
     "metadata": {},
     "output_type": "execute_result"
    }
   ],
   "source": [
    "groupdata = chicken_data.groupby('요일')\n",
    "call_data = groupdata['통화건수']\n",
    "call_data.sum()"
   ]
  },
  {
   "cell_type": "code",
   "execution_count": 57,
   "metadata": {},
   "outputs": [
    {
     "data": {
      "text/plain": [
       "요일\n",
       "금    159290\n",
       "목    118210\n",
       "수    118295\n",
       "월    108492\n",
       "일    158864\n",
       "토    165949\n",
       "화    108243\n",
       "Name: 통화건수, dtype: int64"
      ]
     },
     "execution_count": 57,
     "metadata": {},
     "output_type": "execute_result"
    }
   ],
   "source": [
    "groupdata.sum()['통화건수']"
   ]
  },
  {
   "cell_type": "raw",
   "metadata": {},
   "source": []
  },
  {
   "cell_type": "code",
   "execution_count": 74,
   "metadata": {},
   "outputs": [
    {
     "data": {
      "text/plain": [
       "요일\n",
       "금    11812\n",
       "목    10572\n",
       "수    10651\n",
       "월    10755\n",
       "일    11018\n",
       "토    11368\n",
       "화    10319\n",
       "dtype: int64"
      ]
     },
     "execution_count": 74,
     "metadata": {},
     "output_type": "execute_result"
    }
   ],
   "source": [
    "groupdata.size()"
   ]
  },
  {
   "cell_type": "raw",
   "metadata": {},
   "source": [
    "groupdata_for_call = chicken_data.groupby('통화건수')"
   ]
  },
  {
   "cell_type": "code",
   "execution_count": 72,
   "metadata": {},
   "outputs": [
    {
     "data": {
      "text/plain": [
       "Text(0.5, 1.0, '연령대별 통화건수')"
      ]
     },
     "execution_count": 72,
     "metadata": {},
     "output_type": "execute_result"
    },
    {
     "data": {
      "image/png": "[encoded data removed]",
      "text/plain": [
       "<Figure size 360x576 with 1 Axes>"
      ]
     },
     "metadata": {
      "needs_background": "light"
     },
     "output_type": "display_data"
    }
   ],
   "source": [
    "groupdata_for_call = chicken_data.groupby('연령대').sum()['통화건수'].sort_values(ascending=True)\n",
    "plt.figure(figsize=(5,8))\n",
    "plt.bar(groupdata_for_call.index, groupdata_for_call)\n",
    "plt.title('연령대별 통화건수')\n"
   ]
  },
  {
   "cell_type": "code",
   "execution_count": 75,
   "metadata": {},
   "outputs": [
    {
     "name": "stdout",
     "output_type": "stream",
     "text": [
      "[('금',             기준일 요일 성별    연령대     시도  시군구  읍면동  업종  통화건수\n",
      "3198   20190705  금  남    50대  서울특별시  강남구  신사동  치킨     5\n",
      "3199   20190705  금  남    50대  서울특별시  강남구  역삼동  치킨    15\n",
      "3200   20190705  금  남    10대  서울특별시  강남구  개포동  치킨    10\n",
      "3201   20190705  금  남    10대  서울특별시  강남구  삼성동  치킨    18\n",
      "3202   20190705  금  남    10대  서울특별시  강남구  역삼동  치킨     9\n",
      "...         ... .. ..    ...    ...  ...  ...  ..   ...\n",
      "74050  20190927  금  여    50대  서울특별시  중랑구   묵동  치킨     5\n",
      "74051  20190927  금  남    30대  서울특별시  중랑구  면목동  치킨    22\n",
      "74052  20190927  금  남    30대  서울특별시  중랑구   묵동  치킨     5\n",
      "74053  20190927  금  남    40대  서울특별시  중랑구  면목동  치킨    35\n",
      "74054  20190927  금  여  60대이상  서울특별시  중랑구  면목동  치킨     9\n",
      "\n",
      "[11812 rows x 9 columns]), ('목',             기준일 요일 성별    연령대     시도  시군구   읍면동  업종  통화건수\n",
      "2378   20190704  목  남    10대  서울특별시  강남구   개포동  치킨     5\n",
      "2379   20190704  목  남    10대  서울특별시  강남구  압구정동  치킨     5\n",
      "2380   20190704  목  남    10대  서울특별시  강남구   역삼동  치킨     8\n",
      "2381   20190704  목  남    40대  서울특별시  강남구   일원동  치킨     5\n",
      "2382   20190704  목  남    40대  서울특별시  강남구   논현동  치킨    17\n",
      "...         ... .. ..    ...    ...  ...   ...  ..   ...\n",
      "73139  20190926  목  여    20대  서울특별시  중랑구   신내동  치킨     5\n",
      "73140  20190926  목  여    40대  서울특별시  중랑구   면목동  치킨    24\n",
      "73141  20190926  목  여  60대이상  서울특별시  중랑구   면목동  치킨     5\n",
      "73142  20190926  목  남    20대  서울특별시  중랑구   면목동  치킨    13\n",
      "73143  20190926  목  여    50대  서울특별시  중랑구   면목동  치킨    17\n",
      "\n",
      "[10572 rows x 9 columns]), ('수',             기준일 요일 성별    연령대     시도  시군구  읍면동  업종  통화건수\n",
      "1540   20190703  수  남    50대  서울특별시  강남구  역삼동  치킨    10\n",
      "1541   20190703  수  남    10대  서울특별시  강남구  개포동  치킨     5\n",
      "1542   20190703  수  남    10대  서울특별시  강남구  논현동  치킨     5\n",
      "1543   20190703  수  남    10대  서울특별시  강남구  삼성동  치킨    10\n",
      "1544   20190703  수  남    10대  서울특별시  강남구  일원동  치킨     5\n",
      "...         ... .. ..    ...    ...  ...  ...  ..   ...\n",
      "72367  20190925  수  여    50대  서울특별시  중랑구  면목동  치킨    15\n",
      "72368  20190925  수  남    40대  서울특별시  중랑구   묵동  치킨     5\n",
      "72369  20190925  수  남    40대  서울특별시  중랑구  중화동  치킨     5\n",
      "72370  20190925  수  남  60대이상  서울특별시  중랑구  면목동  치킨     5\n",
      "72371  20190925  수  남    40대  서울특별시  중랑구  면목동  치킨    29\n",
      "\n",
      "[10651 rows x 9 columns]), ('월',             기준일 요일 성별  연령대     시도  시군구  읍면동  업종  통화건수\n",
      "0      20190701  월  남  30대  서울특별시  강남구  논현동  치킨     8\n",
      "1      20190701  월  여  30대  서울특별시  강남구  개포동  치킨    10\n",
      "2      20190701  월  여  30대  서울특별시  강남구  논현동  치킨    16\n",
      "3      20190701  월  여  30대  서울특별시  강남구  수서동  치킨     5\n",
      "4      20190701  월  여  30대  서울특별시  강남구  대치동  치킨     5\n",
      "...         ... .. ..  ...    ...  ...  ...  ..   ...\n",
      "76490  20190930  월  남  20대  서울특별시  중랑구  면목동  치킨     8\n",
      "76491  20190930  월  여  40대  서울특별시  중랑구  신내동  치킨     5\n",
      "76492  20190930  월  여  40대  서울특별시  중랑구  면목동  치킨    19\n",
      "76493  20190930  월  남  40대  서울특별시  중랑구  신내동  치킨     5\n",
      "76494  20190930  월  남  40대  서울특별시  중랑구  중화동  치킨     5\n",
      "\n",
      "[10755 rows x 9 columns]), ('일',             기준일 요일 성별  연령대     시도  시군구  읍면동  업종  통화건수\n",
      "5034   20190707  일  남  30대  서울특별시  강남구  대치동  치킨     5\n",
      "5035   20190707  일  여  30대  서울특별시  강남구  개포동  치킨    15\n",
      "5036   20190707  일  여  30대  서울특별시  강남구  논현동  치킨    20\n",
      "5037   20190707  일  여  30대  서울특별시  강남구  대치동  치킨     5\n",
      "5038   20190707  일  여  40대  서울특별시  강남구  신사동  치킨     5\n",
      "...         ... .. ..  ...    ...  ...  ...  ..   ...\n",
      "75740  20190929  일  여  40대  서울특별시  중랑구  망우동  치킨     5\n",
      "75741  20190929  일  여  40대  서울특별시  중랑구  면목동  치킨    45\n",
      "75742  20190929  일  남  40대  서울특별시  중랑구  면목동  치킨    33\n",
      "75743  20190929  일  남  30대  서울특별시  중랑구   묵동  치킨     5\n",
      "75744  20190929  일  남  30대  서울특별시  중랑구  면목동  치킨    18\n",
      "\n",
      "[11018 rows x 9 columns]), ('토',             기준일 요일 성별    연령대     시도  시군구  읍면동  업종  통화건수\n",
      "4144   20190706  토  남    40대  서울특별시  강남구  개포동  치킨     8\n",
      "4145   20190706  토  남    30대  서울특별시  강남구  역삼동  치킨    25\n",
      "4146   20190706  토  남    30대  서울특별시  강남구  신사동  치킨     5\n",
      "4147   20190706  토  남    30대  서울특별시  강남구  세곡동  치킨     5\n",
      "4148   20190706  토  남    30대  서울특별시  강남구  개포동  치킨    12\n",
      "...         ... .. ..    ...    ...  ...  ...  ..   ...\n",
      "74916  20190928  토  남    20대  서울특별시  중랑구   묵동  치킨     5\n",
      "74917  20190928  토  남    30대  서울특별시  중랑구  면목동  치킨    31\n",
      "74918  20190928  토  남    30대  서울특별시  중랑구   묵동  치킨     5\n",
      "74919  20190928  토  남  60대이상  서울특별시  중랑구  망우동  치킨     5\n",
      "74920  20190928  토  여    50대  서울특별시  중랑구   묵동  치킨     5\n",
      "\n",
      "[11368 rows x 9 columns]), ('화',             기준일 요일 성별    연령대     시도  시군구  읍면동  업종  통화건수\n",
      "750    20190702  화  남    30대  서울특별시  강남구  삼성동  치킨    20\n",
      "751    20190702  화  여    50대  서울특별시  강남구  역삼동  치킨    11\n",
      "752    20190702  화  여    50대  서울특별시  강남구  수서동  치킨     5\n",
      "753    20190702  화  남    10대  서울특별시  강남구  개포동  치킨     5\n",
      "754    20190702  화  남    10대  서울특별시  강남구  논현동  치킨     5\n",
      "...         ... .. ..    ...    ...  ...  ...  ..   ...\n",
      "71578  20190924  화  남    10대  서울특별시  중랑구  중화동  치킨     5\n",
      "71579  20190924  화  남    30대  서울특별시  중랑구  면목동  치킨    19\n",
      "71580  20190924  화  여    40대  서울특별시  중랑구  면목동  치킨    34\n",
      "71581  20190924  화  여    30대  서울특별시  중랑구  면목동  치킨    19\n",
      "71582  20190924  화  여  60대이상  서울특별시  중랑구  면목동  치킨    14\n",
      "\n",
      "[10319 rows x 9 columns])]\n"
     ]
    }
   ],
   "source": [
    "print(list(groupdata))"
   ]
  },
  {
   "cell_type": "code",
   "execution_count": 76,
   "metadata": {},
   "outputs": [
    {
     "data": {
      "text/plain": [
       "[('금',\n",
       "  3198      5\n",
       "  3199     15\n",
       "  3200     10\n",
       "  3201     18\n",
       "  3202      9\n",
       "           ..\n",
       "  74050     5\n",
       "  74051    22\n",
       "  74052     5\n",
       "  74053    35\n",
       "  74054     9\n",
       "  Name: 통화건수, Length: 11812, dtype: int64),\n",
       " ('목',\n",
       "  2378      5\n",
       "  2379      5\n",
       "  2380      8\n",
       "  2381      5\n",
       "  2382     17\n",
       "           ..\n",
       "  73139     5\n",
       "  73140    24\n",
       "  73141     5\n",
       "  73142    13\n",
       "  73143    17\n",
       "  Name: 통화건수, Length: 10572, dtype: int64),\n",
       " ('수',\n",
       "  1540     10\n",
       "  1541      5\n",
       "  1542      5\n",
       "  1543     10\n",
       "  1544      5\n",
       "           ..\n",
       "  72367    15\n",
       "  72368     5\n",
       "  72369     5\n",
       "  72370     5\n",
       "  72371    29\n",
       "  Name: 통화건수, Length: 10651, dtype: int64),\n",
       " ('월',\n",
       "  0         8\n",
       "  1        10\n",
       "  2        16\n",
       "  3         5\n",
       "  4         5\n",
       "           ..\n",
       "  76490     8\n",
       "  76491     5\n",
       "  76492    19\n",
       "  76493     5\n",
       "  76494     5\n",
       "  Name: 통화건수, Length: 10755, dtype: int64),\n",
       " ('일',\n",
       "  5034      5\n",
       "  5035     15\n",
       "  5036     20\n",
       "  5037      5\n",
       "  5038      5\n",
       "           ..\n",
       "  75740     5\n",
       "  75741    45\n",
       "  75742    33\n",
       "  75743     5\n",
       "  75744    18\n",
       "  Name: 통화건수, Length: 11018, dtype: int64),\n",
       " ('토',\n",
       "  4144      8\n",
       "  4145     25\n",
       "  4146      5\n",
       "  4147      5\n",
       "  4148     12\n",
       "           ..\n",
       "  74916     5\n",
       "  74917    31\n",
       "  74918     5\n",
       "  74919     5\n",
       "  74920     5\n",
       "  Name: 통화건수, Length: 11368, dtype: int64),\n",
       " ('화',\n",
       "  750      20\n",
       "  751      11\n",
       "  752       5\n",
       "  753       5\n",
       "  754       5\n",
       "           ..\n",
       "  71578     5\n",
       "  71579    19\n",
       "  71580    34\n",
       "  71581    19\n",
       "  71582    14\n",
       "  Name: 통화건수, Length: 10319, dtype: int64)]"
      ]
     },
     "execution_count": 76,
     "metadata": {},
     "output_type": "execute_result"
    }
   ],
   "source": [
    "list(call_data)"
   ]
  },
  {
   "cell_type": "code",
   "execution_count": null,
   "metadata": {},
   "outputs": [],
   "source": []
  }
 ],
 "metadata": {
  "kernelspec": {
   "display_name": "Python 3",
   "language": "python",
   "name": "python3"
  },
  "language_info": {
   "codemirror_mode": {
    "name": "ipython",
    "version": 3
   },
   "file_extension": ".py",
   "mimetype": "text/x-python",
   "name": "python",
   "nbconvert_exporter": "python",
   "pygments_lexer": "ipython3",
   "version": "3.8.3"
  }
 },
 "nbformat": 4,
 "nbformat_minor": 4
}
